{
 "cells": [
  {
   "cell_type": "code",
   "execution_count": 1,
   "metadata": {},
   "outputs": [],
   "source": [
    "import pandas as pd\n",
    "import numpy as np\n",
    "import matplotlib.pyplot as plt \n",
    "import seaborn as sns"
   ]
  },
  {
   "cell_type": "markdown",
   "metadata": {},
   "source": [
    "The data was downloaded from the [UCI Machine Learning Repository](https://archive.ics.uci.edu/ml/datasets/Heart+Disease) and then cleaned for analysis. The principal investigators responsible for data collection were:\n",
    "\n",
    "1. Hungarian Institute of Cardiology. Budapest: Andras Janosi, M.D.\n",
    "2. University Hospital, Zurich, Switzerland: William Steinbrunn, M.D.\n",
    "3. University Hospital, Basel, Switzerland: Matthias Pfisterer, M.D.\n",
    "4. V.A. Medical Center, Long Beach and Cleveland Clinic Foundation: Robert Detrano, M.D., Ph.D."
   ]
  },
  {
   "cell_type": "code",
   "execution_count": 2,
   "metadata": {},
   "outputs": [
    {
     "data": {
      "text/html": [
       "<div>\n",
       "<style scoped>\n",
       "    .dataframe tbody tr th:only-of-type {\n",
       "        vertical-align: middle;\n",
       "    }\n",
       "\n",
       "    .dataframe tbody tr th {\n",
       "        vertical-align: top;\n",
       "    }\n",
       "\n",
       "    .dataframe thead th {\n",
       "        text-align: right;\n",
       "    }\n",
       "</style>\n",
       "<table border=\"1\" class=\"dataframe\">\n",
       "  <thead>\n",
       "    <tr style=\"text-align: right;\">\n",
       "      <th></th>\n",
       "      <th>age</th>\n",
       "      <th>sex</th>\n",
       "      <th>trestbps</th>\n",
       "      <th>chol</th>\n",
       "      <th>cp</th>\n",
       "      <th>exang</th>\n",
       "      <th>fbs</th>\n",
       "      <th>thalach</th>\n",
       "      <th>heart_disease</th>\n",
       "    </tr>\n",
       "  </thead>\n",
       "  <tbody>\n",
       "    <tr>\n",
       "      <th>0</th>\n",
       "      <td>63.0</td>\n",
       "      <td>male</td>\n",
       "      <td>145.0</td>\n",
       "      <td>233.0</td>\n",
       "      <td>typical angina</td>\n",
       "      <td>0.0</td>\n",
       "      <td>1.0</td>\n",
       "      <td>150.0</td>\n",
       "      <td>absence</td>\n",
       "    </tr>\n",
       "    <tr>\n",
       "      <th>1</th>\n",
       "      <td>67.0</td>\n",
       "      <td>male</td>\n",
       "      <td>160.0</td>\n",
       "      <td>286.0</td>\n",
       "      <td>asymptomatic</td>\n",
       "      <td>1.0</td>\n",
       "      <td>0.0</td>\n",
       "      <td>108.0</td>\n",
       "      <td>presence</td>\n",
       "    </tr>\n",
       "    <tr>\n",
       "      <th>2</th>\n",
       "      <td>67.0</td>\n",
       "      <td>male</td>\n",
       "      <td>120.0</td>\n",
       "      <td>229.0</td>\n",
       "      <td>asymptomatic</td>\n",
       "      <td>1.0</td>\n",
       "      <td>0.0</td>\n",
       "      <td>129.0</td>\n",
       "      <td>presence</td>\n",
       "    </tr>\n",
       "    <tr>\n",
       "      <th>3</th>\n",
       "      <td>37.0</td>\n",
       "      <td>male</td>\n",
       "      <td>130.0</td>\n",
       "      <td>250.0</td>\n",
       "      <td>non-anginal pain</td>\n",
       "      <td>0.0</td>\n",
       "      <td>0.0</td>\n",
       "      <td>187.0</td>\n",
       "      <td>absence</td>\n",
       "    </tr>\n",
       "    <tr>\n",
       "      <th>4</th>\n",
       "      <td>41.0</td>\n",
       "      <td>female</td>\n",
       "      <td>130.0</td>\n",
       "      <td>204.0</td>\n",
       "      <td>atypical angina</td>\n",
       "      <td>0.0</td>\n",
       "      <td>0.0</td>\n",
       "      <td>172.0</td>\n",
       "      <td>absence</td>\n",
       "    </tr>\n",
       "  </tbody>\n",
       "</table>\n",
       "</div>"
      ],
      "text/plain": [
       "    age     sex  trestbps   chol                cp  exang  fbs  thalach  \\\n",
       "0  63.0    male     145.0  233.0    typical angina    0.0  1.0    150.0   \n",
       "1  67.0    male     160.0  286.0      asymptomatic    1.0  0.0    108.0   \n",
       "2  67.0    male     120.0  229.0      asymptomatic    1.0  0.0    129.0   \n",
       "3  37.0    male     130.0  250.0  non-anginal pain    0.0  0.0    187.0   \n",
       "4  41.0  female     130.0  204.0   atypical angina    0.0  0.0    172.0   \n",
       "\n",
       "  heart_disease  \n",
       "0       absence  \n",
       "1      presence  \n",
       "2      presence  \n",
       "3       absence  \n",
       "4       absence  "
      ]
     },
     "execution_count": 2,
     "metadata": {},
     "output_type": "execute_result"
    }
   ],
   "source": [
    "heart = pd.read_csv('heart_disease.csv')\n",
    "heart.head()"
   ]
  },
  {
   "cell_type": "code",
   "execution_count": 3,
   "metadata": {},
   "outputs": [
    {
     "name": "stderr",
     "output_type": "stream",
     "text": [
      "/var/folders/_4/0sx4lk8s4193s8wnbm_p10gw0000gn/T/ipykernel_8549/3337008886.py:1: FutureWarning: The default value of numeric_only in DataFrameGroupBy.mean is deprecated. In a future version, numeric_only will default to False. Either specify numeric_only or select only columns which should be valid for the function.\n",
      "  heart.groupby('heart_disease').mean()\n"
     ]
    },
    {
     "data": {
      "text/html": [
       "<div>\n",
       "<style scoped>\n",
       "    .dataframe tbody tr th:only-of-type {\n",
       "        vertical-align: middle;\n",
       "    }\n",
       "\n",
       "    .dataframe tbody tr th {\n",
       "        vertical-align: top;\n",
       "    }\n",
       "\n",
       "    .dataframe thead th {\n",
       "        text-align: right;\n",
       "    }\n",
       "</style>\n",
       "<table border=\"1\" class=\"dataframe\">\n",
       "  <thead>\n",
       "    <tr style=\"text-align: right;\">\n",
       "      <th></th>\n",
       "      <th>age</th>\n",
       "      <th>trestbps</th>\n",
       "      <th>chol</th>\n",
       "      <th>exang</th>\n",
       "      <th>fbs</th>\n",
       "      <th>thalach</th>\n",
       "    </tr>\n",
       "    <tr>\n",
       "      <th>heart_disease</th>\n",
       "      <th></th>\n",
       "      <th></th>\n",
       "      <th></th>\n",
       "      <th></th>\n",
       "      <th></th>\n",
       "      <th></th>\n",
       "    </tr>\n",
       "  </thead>\n",
       "  <tbody>\n",
       "    <tr>\n",
       "      <th>absence</th>\n",
       "      <td>52.585366</td>\n",
       "      <td>129.250000</td>\n",
       "      <td>242.640244</td>\n",
       "      <td>0.140244</td>\n",
       "      <td>0.140244</td>\n",
       "      <td>158.378049</td>\n",
       "    </tr>\n",
       "    <tr>\n",
       "      <th>presence</th>\n",
       "      <td>56.625899</td>\n",
       "      <td>134.568345</td>\n",
       "      <td>251.474820</td>\n",
       "      <td>0.546763</td>\n",
       "      <td>0.158273</td>\n",
       "      <td>139.258993</td>\n",
       "    </tr>\n",
       "  </tbody>\n",
       "</table>\n",
       "</div>"
      ],
      "text/plain": [
       "                     age    trestbps        chol     exang       fbs  \\\n",
       "heart_disease                                                          \n",
       "absence        52.585366  129.250000  242.640244  0.140244  0.140244   \n",
       "presence       56.625899  134.568345  251.474820  0.546763  0.158273   \n",
       "\n",
       "                  thalach  \n",
       "heart_disease              \n",
       "absence        158.378049  \n",
       "presence       139.258993  "
      ]
     },
     "execution_count": 3,
     "metadata": {},
     "output_type": "execute_result"
    }
   ],
   "source": [
    "heart.groupby('heart_disease').mean()"
   ]
  },
  {
   "cell_type": "code",
   "execution_count": 4,
   "metadata": {},
   "outputs": [
    {
     "name": "stderr",
     "output_type": "stream",
     "text": [
      "/var/folders/_4/0sx4lk8s4193s8wnbm_p10gw0000gn/T/ipykernel_8549/2272015993.py:1: FutureWarning: The default value of numeric_only in DataFrameGroupBy.median is deprecated. In a future version, numeric_only will default to False. Either specify numeric_only or select only columns which should be valid for the function.\n",
      "  heart.groupby('heart_disease').median()\n"
     ]
    },
    {
     "data": {
      "text/html": [
       "<div>\n",
       "<style scoped>\n",
       "    .dataframe tbody tr th:only-of-type {\n",
       "        vertical-align: middle;\n",
       "    }\n",
       "\n",
       "    .dataframe tbody tr th {\n",
       "        vertical-align: top;\n",
       "    }\n",
       "\n",
       "    .dataframe thead th {\n",
       "        text-align: right;\n",
       "    }\n",
       "</style>\n",
       "<table border=\"1\" class=\"dataframe\">\n",
       "  <thead>\n",
       "    <tr style=\"text-align: right;\">\n",
       "      <th></th>\n",
       "      <th>age</th>\n",
       "      <th>trestbps</th>\n",
       "      <th>chol</th>\n",
       "      <th>exang</th>\n",
       "      <th>fbs</th>\n",
       "      <th>thalach</th>\n",
       "    </tr>\n",
       "    <tr>\n",
       "      <th>heart_disease</th>\n",
       "      <th></th>\n",
       "      <th></th>\n",
       "      <th></th>\n",
       "      <th></th>\n",
       "      <th></th>\n",
       "      <th></th>\n",
       "    </tr>\n",
       "  </thead>\n",
       "  <tbody>\n",
       "    <tr>\n",
       "      <th>absence</th>\n",
       "      <td>52.0</td>\n",
       "      <td>130.0</td>\n",
       "      <td>234.5</td>\n",
       "      <td>0.0</td>\n",
       "      <td>0.0</td>\n",
       "      <td>161.0</td>\n",
       "    </tr>\n",
       "    <tr>\n",
       "      <th>presence</th>\n",
       "      <td>58.0</td>\n",
       "      <td>130.0</td>\n",
       "      <td>249.0</td>\n",
       "      <td>1.0</td>\n",
       "      <td>0.0</td>\n",
       "      <td>142.0</td>\n",
       "    </tr>\n",
       "  </tbody>\n",
       "</table>\n",
       "</div>"
      ],
      "text/plain": [
       "                age  trestbps   chol  exang  fbs  thalach\n",
       "heart_disease                                            \n",
       "absence        52.0     130.0  234.5    0.0  0.0    161.0\n",
       "presence       58.0     130.0  249.0    1.0  0.0    142.0"
      ]
     },
     "execution_count": 4,
     "metadata": {},
     "output_type": "execute_result"
    }
   ],
   "source": [
    "heart.groupby('heart_disease').median()"
   ]
  },
  {
   "cell_type": "code",
   "execution_count": 5,
   "metadata": {},
   "outputs": [
    {
     "data": {
      "image/png": "[encoded data removed]",
      "text/plain": [
       "<Figure size 640x480 with 1 Axes>"
      ]
     },
     "metadata": {},
     "output_type": "display_data"
    }
   ],
   "source": [
    "sns.boxplot(x=heart.heart_disease, y=heart.thalach)\n",
    "plt.show()"
   ]
  },
  {
   "cell_type": "code",
   "execution_count": 6,
   "metadata": {},
   "outputs": [
    {
     "name": "stdout",
     "output_type": "stream",
     "text": [
      "p-value for `thalach` two-sample t-test:  3.456964908430172e-14\n"
     ]
    }
   ],
   "source": [
    "thalach_hd = heart.thalach[heart.heart_disease == 'presence']\n",
    "thalach_no_hd = heart.thalach[heart.heart_disease == 'absence']\n",
    "from scipy.stats import ttest_ind\n",
    "tstat, pval = ttest_ind(thalach_hd, thalach_no_hd)\n",
    "print('p-value for `thalach` two-sample t-test: ', pval)"
   ]
  },
  {
   "cell_type": "code",
   "execution_count": 7,
   "metadata": {},
   "outputs": [
    {
     "data": {
      "image/png": "[encoded data removed]",
      "text/plain": [
       "<Figure size 640x480 with 1 Axes>"
      ]
     },
     "metadata": {},
     "output_type": "display_data"
    }
   ],
   "source": [
    "sns.boxplot(x=heart.heart_disease, y=heart.age)\n",
    "plt.show()"
   ]
  },
  {
   "cell_type": "code",
   "execution_count": 8,
   "metadata": {},
   "outputs": [
    {
     "name": "stdout",
     "output_type": "stream",
     "text": [
      "p-value for `age` two-sample t-test:  8.955636917529706e-05\n"
     ]
    }
   ],
   "source": [
    "age_hd = heart.age[heart.heart_disease == 'presence']\n",
    "age_no_hd = heart.age[heart.heart_disease == 'absence']\n",
    "tstat, pval = ttest_ind(age_hd, age_no_hd)\n",
    "print('p-value for `age` two-sample t-test: ', pval)"
   ]
  },
  {
   "cell_type": "code",
   "execution_count": 9,
   "metadata": {},
   "outputs": [
    {
     "data": {
      "image/png": "[encoded data removed]",
      "text/plain": [
       "<Figure size 640x480 with 1 Axes>"
      ]
     },
     "metadata": {},
     "output_type": "display_data"
    }
   ],
   "source": [
    "sns.boxplot(x=heart.heart_disease, y=heart.trestbps)\n",
    "plt.show()"
   ]
  },
  {
   "cell_type": "code",
   "execution_count": 10,
   "metadata": {},
   "outputs": [
    {
     "name": "stdout",
     "output_type": "stream",
     "text": [
      "p-value for `trestbps` two-sample t-test:  0.008548268928594928\n"
     ]
    }
   ],
   "source": [
    "trestbps_hd = heart.trestbps[heart.heart_disease == 'presence']\n",
    "trestbps_no_hd = heart.trestbps[heart.heart_disease == 'absence']\n",
    "tstat, pval = ttest_ind(trestbps_hd, trestbps_no_hd)\n",
    "print('p-value for `trestbps` two-sample t-test: ', pval)"
   ]
  },
  {
   "cell_type": "code",
   "execution_count": 11,
   "metadata": {},
   "outputs": [
    {
     "data": {
      "image/png": "[encoded data removed]",
      "text/plain": [
       "<Figure size 640x480 with 1 Axes>"
      ]
     },
     "metadata": {},
     "output_type": "display_data"
    }
   ],
   "source": [
    "sns.boxplot(x=heart.heart_disease, y=heart.chol)\n",
    "plt.show()"
   ]
  },
  {
   "cell_type": "code",
   "execution_count": 12,
   "metadata": {},
   "outputs": [
    {
     "name": "stdout",
     "output_type": "stream",
     "text": [
      "p-value for `chol` two-sample t-test:  0.13914167020436527\n"
     ]
    }
   ],
   "source": [
    "chol_hd = heart.chol[heart.heart_disease == 'presence']\n",
    "chol_no_hd = heart.chol[heart.heart_disease == 'absence']\n",
    "tstat, pval = ttest_ind(chol_hd, chol_no_hd)\n",
    "print('p-value for `chol` two-sample t-test: ', pval)"
   ]
  },
  {
   "cell_type": "code",
   "execution_count": 13,
   "metadata": {},
   "outputs": [
    {
     "data": {
      "image/png": "[encoded data removed]",
      "text/plain": [
       "<Figure size 640x480 with 1 Axes>"
      ]
     },
     "metadata": {},
     "output_type": "display_data"
    }
   ],
   "source": [
    "sns.boxplot(x=heart.cp, y=heart.thalach)\n",
    "plt.show()"
   ]
  },
  {
   "cell_type": "code",
   "execution_count": 14,
   "metadata": {},
   "outputs": [],
   "source": [
    "thalach_typical = heart.thalach[heart.cp == 'typical angina']\n",
    "thalach_asymptom = heart.thalach[heart.cp == 'asymptomatic']\n",
    "thalach_nonangin = heart.thalach[heart.cp == 'non-anginal pain']\n",
    "thalach_atypical = heart.thalach[heart.cp == 'atypical angina']"
   ]
  },
  {
   "cell_type": "code",
   "execution_count": 15,
   "metadata": {},
   "outputs": [
    {
     "name": "stdout",
     "output_type": "stream",
     "text": [
      "p-value for ANOVA:  1.9065505247705008e-10\n"
     ]
    }
   ],
   "source": [
    "from scipy.stats import f_oneway\n",
    "Fstat, pval = f_oneway(thalach_typical, thalach_asymptom, thalach_nonangin, thalach_atypical)\n",
    "print('p-value for ANOVA: ', pval)"
   ]
  },
  {
   "cell_type": "code",
   "execution_count": 16,
   "metadata": {},
   "outputs": [
    {
     "name": "stdout",
     "output_type": "stream",
     "text": [
      "           Multiple Comparison of Means - Tukey HSD, FWER=0.05           \n",
      "=========================================================================\n",
      "     group1           group2      meandiff p-adj   lower    upper  reject\n",
      "-------------------------------------------------------------------------\n",
      "    asymptomatic  atypical angina  21.7394    0.0  12.7442 30.7347   True\n",
      "    asymptomatic non-anginal pain  14.7264    0.0   7.2583 22.1945   True\n",
      "    asymptomatic   typical angina   15.276 0.0081   2.9707 27.5812   True\n",
      " atypical angina non-anginal pain   -7.013 0.2481 -16.7587  2.7327  False\n",
      " atypical angina   typical angina  -6.4635 0.6213 -20.2702  7.3432  False\n",
      "non-anginal pain   typical angina   0.5495 0.9995 -12.3145 13.4136  False\n",
      "-------------------------------------------------------------------------\n"
     ]
    }
   ],
   "source": [
    "from statsmodels.stats.multicomp import pairwise_tukeyhsd\n",
    "output = pairwise_tukeyhsd(heart.thalach, heart.cp)\n",
    "print(output)"
   ]
  },
  {
   "cell_type": "code",
   "execution_count": 17,
   "metadata": {},
   "outputs": [
    {
     "name": "stdout",
     "output_type": "stream",
     "text": [
      "heart_disease     absence  presence\n",
      "cp                                 \n",
      "asymptomatic           39       105\n",
      "atypical angina        41         9\n",
      "non-anginal pain       68        18\n",
      "typical angina         16         7\n"
     ]
    }
   ],
   "source": [
    "Xtab = pd.crosstab(heart.cp, heart.heart_disease)\n",
    "print(Xtab)"
   ]
  },
  {
   "cell_type": "code",
   "execution_count": 18,
   "metadata": {},
   "outputs": [
    {
     "name": "stdout",
     "output_type": "stream",
     "text": [
      "p-value for chi-square test:  1.2517106007837527e-17\n"
     ]
    }
   ],
   "source": [
    "from scipy.stats import chi2_contingency\n",
    "chi2, pval, dof, exp = chi2_contingency(Xtab)\n",
    "print('p-value for chi-square test: ', pval)"
   ]
  },
  {
   "cell_type": "markdown",
   "metadata": {},
   "source": [
    "# Bonus \n",
    "\n",
    "Simulating these tests (if there's time)"
   ]
  },
  {
   "cell_type": "code",
   "execution_count": 19,
   "metadata": {},
   "outputs": [
    {
     "name": "stdout",
     "output_type": "stream",
     "text": [
      "scipy p-value for `trestbps` two-sample t-test:  0.008548268928594928\n"
     ]
    }
   ],
   "source": [
    "# 2-sample t-test\n",
    "\n",
    "# using a scipy function\n",
    "trestbps_hd = heart.trestbps[heart.heart_disease == 'presence']\n",
    "trestbps_no_hd = heart.trestbps[heart.heart_disease == 'absence']\n",
    "tstat, pval = ttest_ind(trestbps_hd, trestbps_no_hd)\n",
    "print('scipy p-value for `trestbps` two-sample t-test: ', pval)"
   ]
  },
  {
   "cell_type": "code",
   "execution_count": 30,
   "metadata": {},
   "outputs": [
    {
     "name": "stdout",
     "output_type": "stream",
     "text": [
      "[-4.78342691700297, -0.49017371468679016, 1.07825934374452, -2.510528162835584, -1.566809966660827, -3.3080364976311785, 2.088436567818917, 2.247938234778047, -0.2110457975083193, 0.7592560098262879, -2.656738024214775, -0.41042288120723924, -2.6035708018950743, -2.4839445516757337, -1.7130198280399895, 2.1017283733988563, 1.5966397613616437, 0.32062642568871524, -0.6363835760659526, -1.9921477452184604, -1.8060624670995082, 0.9187576767853898, 0.8124232321459885, -0.49017371468679016, -0.5167573258466405, -3.985918582207404, 2.154895595718557, -5.541059835058775, -0.5433409370064908, 0.4535444814879952, -0.304088436567838, -1.8725214949991482, 0.7060887875065589, 3.0454465695736133, 0.34721003684856555, 0.6529215651868867, -0.250921214248109, -0.8357606597648726, 0.9985085102649691, -1.1946394104228943, -2.3776101070363325, 1.064967538164609, -2.9358659413932173, -2.2978592735567815, 0.8921740656255395, -1.4737673276013368, -2.284567467976842, -4.092253026846805, -1.8725214949991482, -0.8889278820845732, 1.809308650640446, 1.875767678540086, 2.3808562905772988, 3.510659764871008, -1.3275574662221459, 0.32062642568871524, -4.238462888225996, 3.9359975434286696, 1.3573872609229625, 2.6732760133356805, -1.9522723284786991, 1.2776364274434115, 0.2807510089489256, -0.304088436567838, -1.7661870503597186, 1.2377610107036219, -2.045314967538161, 0.34721003684856555, -1.2610984383225343, -0.250921214248109, -1.7528952447797792, -1.1414721881031937, 0.2541673977891037, 3.430908931391457, -3.228285664151599, 0.14783295314967404, -4.185295665906324, -1.9389805228987598, -3.2149938585716598, 2.766318652395171, 2.5669415686962793, 0.5598789261273964, 3.430908931391457, 1.1978855939638606, -3.4808299701701912, -2.417485523776122, -0.22433760308825867, 1.5966397613616437, -0.5300491314265798, 5.491138796280069, -0.8490524653448119, 0.08137392525003406, -2.0187313563783107, 3.2979908755922054, 2.9391121249341836, -1.0750131602035538, -2.9225741358133064, 1.1181347604842813, -1.1946394104228943, -2.5636953851552846, -1.7794788559396295, -0.5699245481663411, -1.2345148271626556, 4.055623793647982, -1.2876820494823562, 3.417617125811546, 1.07825934374452, 3.191656430952804, -0.17117038076855806, 2.1150201789787673, -3.627039831549382, 4.6138796280049235, -1.3940164941217859, 4.574004211265134, -3.148534830672048, 0.49341989822775645, 3.0454465695736133, -2.6035708018950743, 1.5700561502017933, 1.4238462888226024, 1.6630987892612552, 3.497367959291097, -0.49017371468679016, 1.2111773995438, 4.387918933146153, -2.125065801017712, -5.235348306720482, 1.3308036497631122, 1.8358922618003248, 0.9453412879452685, -0.29079663098787023, 0.9054658712054788, -1.114888576943315, 0.5465871205474571, -1.3142656606422065, 3.258115458852444, 0.09466573082997343, -2.0054395507983998, -2.0054395507983998, 2.4606071240568497, 0.7725478154061989, -0.4768819091068508, -0.6895507983856817, -0.3306720477276599, 1.5567643446218824, -0.304088436567838, -2.7099052465344755, 0.14783295314967404, 2.4738989296367606, 2.9391121249341836, 0.0016230917704831427, 1.8624758729601467, -3.2149938585716598, -3.9992103877873433, 1.131426566064249, -3.50741358133007, 0.9985085102649691, 2.3808562905772988, 1.0383839270047304, 2.7530268468152315, -1.3009738550622956, -3.706790665028933, -0.38383927004738894, -0.26421301982804835, 0.09466573082997343, -2.138357606597623, -0.8224688541849332, 0.3073346201087759, 0.692796981926648, 0.34721003684856555, -1.1281803825232544, -1.9389805228987598, 0.16112475872958498, 0.14783295314967404, -0.6230917704860417, -0.370547464467478, -0.6895507983856817, 3.4442007369713963, 1.7694332339006849, -1.1414721881031937, -0.024960519389367164, -3.4675381645902803, 0.10795753640991279, -3.50741358133007, -0.23762940866819804, 1.3573872609229625, 0.5465871205474571, -1.0617213546236144, 2.4340235128969994, -0.41042288120723924, -1.89910510615897, 1.689682400421134, -3.042200386032647, 1.543472539041943, -1.6066853834006167, -2.045314967538161, -0.09141954728897872, 2.6201087910159515, 0.26745920336901463, -1.5535181610808877, -2.2978592735567815, -0.31738024214774896, 2.168187401298468, 1.5700561502017933, 1.8226004562203855, 0.8124232321459885, -3.8530005264081524, 0.7592560098262879, -1.035137743463764, -0.5300491314265798, -0.43700649236706113, 0.9187576767853898, 0.041498508510272814, -1.8193542726794192, 0.2807510089489256, -1.8326460782593585, -0.0116687138094278, 1.8624758729601467, -1.6199771889805277, 1.1845937883839213, 2.699859624495531, -0.18446218634849743, -1.114888576943315, 1.942226706439726, 0.4535444814879952, -5.195472889980692, 2.1017283733988563, 0.5067117038076674, -3.587164414809621, -2.590278996315135, 1.158010177224071, -1.9256887173188204, -0.49017371468679016, 0.5598789261273964, 1.9156430952798758, 0.42696087032811647, 0.8788822600456285, 0.7991314265660776, 2.832777680294811, -0.4502982979470289, 1.756141428320774, 0.6396297596069473, -0.34396385330759927, 1.0516757325846413, 1.224469205123711, 1.5567643446218824, -2.204816634497263, 0.14783295314967404, -2.0851903842779507, -2.3244428847166034, -1.4737673276013368, 2.6334005965959193, -1.8459378838392695, -0.26421301982804835, -0.19775399192840837, -1.3408492718020852, -1.2478066327425665, 2.885944902614483, -1.433891910861547, 2.1814792068784072, -1.6066853834006167, 4.946174767503095, 0.5997543428671861, 1.7827250394805958, 0.5332953149675461, 3.8296630987892684, 0.8655904544657176, 2.6334005965959193, -2.510528162835584, -0.7693016318652326, 1.0383839270047304, 4.294876294086691, 0.0016230917704831427, 0.5067117038076674, 0.7725478154061989, -1.0218459378838247, 1.609931566941583, -0.8490524653448119, -0.09141954728897872, -3.8131251096683627, -0.6629671872258314, -1.4206001052816362, -0.6629671872258314, -1.3408492718020852, 0.20100017546937465, 2.9125285137743617, 3.656869626250227, -1.8193542726794192, 0.44025267590805583, -0.1578785751886187, -4.623925250043868, -0.981970521144035, -0.14458676960870775, -1.8459378838392695, 2.593525179856101, 0.692796981926648, -0.6363835760659526, 0.8522986488857498, -0.05154413054921747, 1.5700561502017933, 2.327689068257598, 1.7694332339006849, -0.1578785751886187, -0.8623442709247229, 3.3777417090717847, -0.6629671872258314, -2.0054395507983998, 2.3941480961572097, -2.284567467976842, -2.417485523776122, -1.8193542726794192, 1.3175118441831728, -0.8357606597648726, -1.0750131602035538, -3.135243025092109, 2.407439901737149, 0.4003772591682946, -0.3572556588875102, -3.4143709422705797, 0.20100017546937465, 3.643577820670288, 1.1845937883839213, -0.8623442709247229, 2.5137743463765503, 2.5403579575364006, -0.8490524653448119, 1.0383839270047304, -1.1680557992630156, 0.3870854535883552, 0.41366906474820553, 2.407439901737149, 1.7029742060010449, 1.609931566941583, 0.8655904544657176, -1.8459378838392695, 2.4738989296367606, 2.7530268468152315, 3.0720301807334636, 0.3605018424284765, 0.7326723986664376, -1.1547639936831047, -1.048429549043675, -1.6332689945604386, 0.6396297596069473, -0.09141954728897872, 2.154895595718557, -0.981970521144035, 1.1048429549043703, -4.052377610107044, 3.337866292331995, 0.32062642568871524, -0.6895507983856817, -0.7693016318652326, -0.981970521144035, -0.8623442709247229, -2.962449552553096, -0.5965081593261914, -2.058606773118072, 3.736620459729778, 1.6630987892612552, 1.3308036497631122, 0.9719248991050904, 0.8124232321459885, -1.1547639936831047, -3.3479119143709397, 1.0383839270047304, -3.2415774697315385, 0.44025267590805583, -2.444069134935944, 0.1877083698894637, -0.250921214248109, 2.42073170731706, -0.981970521144035, 2.5004825407966393, 0.20100017546937465, -4.4378399719248875, -0.46359010352693986, 1.676390594841223, -2.8826987190735167, 0.5332953149675461, 2.0751447622389776, 1.8226004562203855, 0.6529215651868867, -1.7396034391998683, -1.101596771363404, 1.6498069836813443, -2.0718985786980113, -2.9491577469731567, 0.16112475872958498, -1.9522723284786991, -0.8889278820845732, -0.8889278820845732, -1.500350938761187, 1.2510528162835612, 1.224469205123711, -3.201702052991749, 2.0352693454992163, 0.5200035093876352, -0.1578785751886187, 1.8624758729601467, -2.736488857694326, 0.26745920336901463, 2.71315143007547, -0.5965081593261914, 1.2776364274434115, -0.024960519389367164, -0.6496753816459204, 1.3042200386032619, -1.4604755220214258, 0.4535444814879952, 1.07825934374452, -0.4237146867871502, 0.09466573082997343, -3.587164414809621, -2.670029829794686, -0.38383927004738894, 1.131426566064249, -1.2610984383225343, 0.613046148447097, -1.4870591331812761, -0.5433409370064908, -4.690384277943508, 0.12124934198982373, 5.55759782417968, -2.4706527460957943, 2.7796104579750818, -1.500350938761187, 1.7694332339006849, 2.4606071240568497, -0.1047113528689465, -0.29079663098787023, -2.0718985786980113, 1.5035971223021534, 1.3440954553430515, 0.692796981926648, -1.8326460782593585, -0.981970521144035, -3.4276627478504906, -0.05154413054921747, 3.018862958413763, 0.2807510089489256, 0.5598789261273964, 2.8460694858747217, 2.872653097034572, 0.9453412879452685, -1.101596771363404, -0.6762589928057423, 3.7499122653097174, -2.3909019126162434, 5.079092823302318, 0.5864625372872467, 3.125197403053164, 2.0352693454992163, -0.8490524653448119, -3.4143709422705797, -3.759957887348662, 1.5966397613616437, 1.9821021231795157, 1.8358922618003248, -1.3408492718020852, -2.4839445516757337, -3.3479119143709397, 2.3941480961572097, -5.142305667660992, 0.42696087032811647, -0.6496753816459204, -0.716134409545532, -1.3674328829619071, 1.942226706439726, 2.9258203193542727, 2.806194069134932, -0.9952623267240028, 0.32062642568871524, 1.3175118441831728, 0.7060887875065589, -3.9061677487278246, 0.46683628706790614, 0.692796981926648, 0.5465871205474571, 0.9586330935251794, 1.3972626776627237, -1.6199771889805277, 1.5567643446218824, 0.22758378662922496, -2.257983856816992, 1.543472539041943, 0.41366906474820553, 0.37379364800841586, -0.024960519389367164, 0.4535444814879952, -2.8561151079136664, 0.7326723986664376, -2.8694069134935773, -1.2345148271626556, 2.5137743463765503, 0.21429198104931402, 1.158010177224071, 1.9555185120196654, -0.1578785751886187, -4.477715388664677, 0.41366906474820553, -0.3306720477276599, -1.5535181610808877, -0.46359010352693986, -5.394849973679584, 2.3941480961572097, -3.135243025092109, 0.02820670293033345, 0.02820670293033345, 0.041498508510272814, 0.8257150377259279, -1.7528952447797792, 1.3175118441831728, -2.909282330233367, 3.4442007369713963, -3.706790665028933, -2.2978592735567815, 0.7592560098262879, -2.191524828917352, -2.909282330233367, 2.699859624495531, -0.3572556588875102, -1.1680557992630156, 0.3339182312686546, 1.477013511142303, -3.4542463590103694, -0.5034655202667011, -1.7794788559396295, 3.0587383751535526, 1.4238462888226024, -1.593393577820649, 1.7428496227408345, -0.782593437445172, 2.952403930514123, -0.7427180207053823, -1.3275574662221459, -1.659852605720289, 1.9821021231795157, 1.9821021231795157, 1.3573872609229625, -0.43700649236706113, 0.17441656430952435, 3.4707843481312466, -2.3111510791366925, -2.2181084400772306, 0.7459642042463486, 1.9289349008597867, -0.6230917704860417, 0.34721003684856555, -0.0116687138094278, -3.3744955255308184, 0.17441656430952435, 0.8788822600456285, -2.4573609405158834, -1.1946394104228943, 1.4371380944025134, 1.3573872609229625, -1.4073082997016968, 3.430908931391457, -0.09141954728897872, 2.659984207755741, 1.4371380944025134, 0.9054658712054788, 2.208062818038229, 0.4801280926478455, -1.726311633619929, -0.3971310756272999, 2.0352693454992163, -0.05154413054921747, 0.22758378662922496, -1.3940164941217859, -0.6762589928057423, 0.44025267590805583, 3.3245744867520557, -1.5269345499210374, 1.9023512896999648, -5.062554834181412, -2.6035708018950743, 1.0516757325846413, -2.8694069134935773, 1.0383839270047304, 2.739735041235292, 2.819485874714843, 0.8655904544657176, 0.21429198104931402, 1.091551149324431, 2.806194069134932, -2.0718985786980113, -1.8592296894191804, 0.44025267590805583, 1.5966397613616437, -0.2110457975083193, -1.0617213546236144, 0.5731707317073074, 3.258115458852444, -3.3744955255308184, 0.8655904544657176, 0.5598789261273964, -1.8060624670995082, 2.952403930514123, 0.9852167046850298, 0.05479031409021218, -0.1578785751886187, -1.3142656606422065, -0.5832163537462804, -0.03825232496930653, -2.257983856816992, 2.340980873837509, -0.9553869099842132, -1.101596771363404, -1.6997280224600786, 0.8788822600456285, -1.1547639936831047, 0.041498508510272814, 2.726443235655381, 1.0516757325846413, 2.1017283733988563, 3.2979908755922054, 0.26745920336901463, 0.5465871205474571, 0.2807510089489256, 3.949289349008609, -0.07812774170906778, 3.6169942095104375, -0.1047113528689465, 2.9922793472539126, -2.909282330233367, 0.02820670293033345, -1.0750131602035538, 0.692796981926648, 0.8788822600456285, 1.1713019828040103, -1.6731444113002283, -2.2446920512370525, 0.26745920336901463, -0.7958852430251113, -1.114888576943315, -0.11800315844885745, 6.169020880856266, -3.055492191612558, 2.407439901737149, 0.4801280926478455, -2.2978592735567815, -0.9155114932444519, -0.7028426039655926, 0.41366906474820553, -3.706790665028933, 0.5598789261273964, 2.952403930514123, 0.05479031409021218, 1.4504298999824528, -1.2743902439024453, 3.789787682049507, -1.3142656606422065, 1.9156430952798758, 1.623223372521494, -1.0617213546236144, -0.07812774170906778, 1.8491840673802358, -0.05154413054921747, -1.89910510615897, -0.5433409370064908, 2.0751447622389776, 0.5864625372872467, 0.679505176346737, -2.9890331637129464, 0.2807510089489256, -2.497236357255673, 3.497367959291097, 2.194771012458318, 3.7100368485698993, -0.1312949640287684, 1.158010177224071, -1.0085541323039138, -2.802947885593966, -1.2345148271626556, 0.8124232321459885, -3.773249692928573, 3.5372433760308866, -1.6066853834006167, 0.9187576767853898, -3.161826636251959, -1.8193542726794192, 2.221354623618197, 2.659984207755741, 0.613046148447097, -0.3306720477276599, 1.543472539041943, 1.3175118441831728, 2.3941480961572097, -0.9952623267240028, 0.6396297596069473, -0.5566327425864017, 1.4637217055623637, -2.2314002456571416, 1.7960168450605352, 2.168187401298468, -3.8928759431479136, 0.1877083698894637, -0.5965081593261914, -0.304088436567838, 0.08137392525003406, -2.2314002456571416, -0.03825232496930653, 3.8296630987892684, 1.5301807334620037, -3.4675381645902803, 1.9289349008597867, -1.035137743463764, -1.2079312160028053, -0.8091770486050223, 1.9821021231795157, 0.8788822600456285, -3.1751184418318985, 1.6365151781014333, 1.1181347604842813, -1.9389805228987598, -1.89910510615897, -0.5699245481663411, -3.4808299701701912, 3.2315318476925654, -0.5034655202667011, -2.257983856816992, 2.6732760133356805, 1.623223372521494, -2.138357606597623, 1.0383839270047304, 0.05479031409021218, -1.500350938761187, 1.4371380944025134, -3.268161080891389, 0.8655904544657176, 2.0618529566590666, 0.9985085102649691, -1.659852605720289, 2.699859624495531, 0.41366906474820553, -0.1312949640287684, -0.26421301982804835, -0.8357606597648726, 0.692796981926648, -3.2149938585716598, 1.1048429549043703, -0.8224688541849332, 3.3245744867520557, -0.0116687138094278, 3.284699070012266, 1.1181347604842813, -0.8357606597648726, 0.7858396209861382, 0.49341989822775645, 1.0383839270047304, -1.3541410773819962, 1.091551149324431, -1.8592296894191804, 0.34721003684856555, 0.12124934198982373, -0.07812774170906778, 3.1517810142130145, 2.7530268468152315, -1.5402263555009768, 1.01180031584488, 3.98916476574837, 2.0352693454992163, -0.5300491314265798, -2.2446920512370525, 0.29404281452886494, -2.0718985786980113, 0.9054658712054788, -0.46359010352693986, 1.5301807334620037, 2.819485874714843, -1.3142656606422065, -0.3971310756272999, -0.5300491314265798, 1.0383839270047304, -3.2415774697315385, 1.8358922618003248, -2.045314967538161, -0.3572556588875102, 3.3112826811721447, 0.37379364800841586, -0.5699245481663411, -1.6864362168801676, 1.290928233023351, 1.064967538164609, -1.1547639936831047, -4.211879277066146, 0.0016230917704831427, -2.444069134935944, 0.5997543428671861, -1.3674328829619071, -4.318213721705547, 0.8257150377259279, 1.4637217055623637, -3.3346201087910288, -0.1578785751886187, -0.18446218634849743, -2.284567467976842, 0.08137392525003406, -2.125065801017712, -0.5167573258466405, -1.6864362168801676, -1.6066853834006167, -1.1547639936831047, -0.4502982979470289, -0.8357606597648726, 0.2541673977891037, 1.623223372521494, -1.0085541323039138, -0.5965081593261914, -3.7466660817687227, -1.2478066327425665, -1.0617213546236144, 2.154895595718557, 1.9156430952798758, 3.0587383751535526, 0.9187576767853898, -5.062554834181412, 2.792902263555021, 0.5731707317073074, 0.8522986488857498, -0.6762589928057423, -0.304088436567838, -0.9155114932444519, -0.7560098262853217, 0.42696087032811647, 0.7725478154061989, -1.4870591331812761, 0.4003772591682946, 0.9985085102649691, 2.726443235655381, -2.351026495876482, -0.49017371468679016, 2.4473153184769387, -1.2478066327425665, 1.3308036497631122, 0.37379364800841586, 1.8890594841200254, -2.3244428847166034, -2.7099052465344755, -0.18446218634849743, 3.2979908755922054, -3.148534830672048, -2.5371117739954343, -2.8694069134935773, 2.234646429198108, -0.34396385330759927, -0.0116687138094278, 0.4003772591682946, -1.2478066327425665, -0.9952623267240028, -2.909282330233367, 0.02820670293033345, 2.739735041235292, -1.5269345499210374, -0.9553869099842132, 0.5332953149675461, 3.789787682049507, 0.8655904544657176, -0.07812774170906778, 2.287813651517837, -2.0984821898578616, -4.358089138445337, -1.114888576943315, 1.290928233023351, -0.6097999649061308, 0.8390068433058389, 1.1048429549043703, 3.9227057378487586, 2.659984207755741, 0.32062642568871524, 2.0751447622389776, 0.21429198104931402, 0.9187576767853898, -2.4573609405158834, 1.8624758729601467, -1.580101772240738, 1.7694332339006849, 0.2408755922091359, 3.125197403053164, -0.0116687138094278, -1.5402263555009768, -2.204816634497263, -2.7099052465344755, -2.058606773118072, 2.35427267941742, -5.620810668538354, 0.626337954027008, 2.234646429198108, 0.3605018424284765, 0.7060887875065589, 1.1181347604842813, 3.6834532374100775, -0.38383927004738894, -0.782593437445172, 3.0720301807334636, -2.444069134935944, 3.3112826811721447, 4.480961572205672, 1.4371380944025134, -0.6097999649061308, 1.9688103175995764, -0.46359010352693986, 0.17441656430952435, 1.7162660115809842, 2.088436567818917, -1.0085541323039138, -0.4768819091068508, -0.7560098262853217, -0.9553869099842132, -2.337734690296543, 0.02820670293033345, 1.290928233023351, -0.7427180207053823, 0.1345411475697631, 1.6365151781014333, 1.3308036497631122, 3.6302860150903484, -0.7427180207053823, 1.3972626776627237, 0.10795753640991279, 0.7060887875065589, 0.7326723986664376, -0.22433760308825867, 2.5669415686962793, 2.3808562905772988, 0.8655904544657176, 1.6630987892612552, 0.49341989822775645, -0.22433760308825867, -2.643446218634864, 2.6865678189155915, -1.513642744341098, 2.1150201789787673, -1.646560800140378, 1.9555185120196654, 1.4903053167222424, 0.4535444814879952, -0.26421301982804835, 4.241709071766962, 2.221354623618197, 3.643577820670288, -4.5175908054044385, 0.0016230917704831427, 1.0383839270047304, -1.433891910861547, -2.656738024214775, 0.1877083698894637, -0.8889278820845732, 0.41366906474820553, -1.035137743463764, -0.7560098262853217, -5.142305667660992, 2.0485611510791273, 0.7725478154061989, 0.3870854535883552, -0.8224688541849332, 0.5598789261273964, -2.6966134409545646, -2.643446218634864, -1.0883049657834647, -1.8725214949991482, -0.14458676960870775, 2.6865678189155915, 2.35427267941742, -0.7294262151254713, -0.22433760308825867, -0.2110457975083193, 2.0086857343393376, 0.613046148447097, 1.3042200386032619, -4.118836638006684, 3.0055711528338236, -1.7528952447797792, 2.1017283733988563, 1.4903053167222424, -2.576987190735224, 1.0250921214248194, 3.2182400421126545, 1.6365151781014333, -1.2876820494823562, 1.1181347604842813, -2.1649412177575016, 2.5536497631163115, 2.6732760133356805, -0.8889278820845732, 1.4903053167222424, -1.580101772240738, 1.131426566064249, -1.3142656606422065, 0.5864625372872467, 3.3245744867520557, -1.4073082997016968, 2.7796104579750818, 0.5864625372872467, -2.125065801017712, 3.284699070012266, -0.5566327425864017, -0.5300491314265798]\n"
     ]
    }
   ],
   "source": [
    "# using simulation\n",
    "null_mean_diffs = []\n",
    "for i in range(1000):\n",
    "    scrambled = np.random.choice(heart.heart_disease, size = len(heart), replace = False)\n",
    "    trestbps_hd_sim = heart.trestbps[scrambled == 'presence']\n",
    "    trestbps_no_hd_sim = heart.trestbps[scrambled == 'absence']\n",
    "    sim_mean_diff = np.mean(trestbps_hd_sim) - np.mean(trestbps_no_hd_sim)\n",
    "    null_mean_diffs.append(sim_mean_diff)\n",
    "\n",
    "print(null_mean_diffs)"
   ]
  },
  {
   "cell_type": "code",
   "execution_count": 21,
   "metadata": {},
   "outputs": [
    {
     "name": "stdout",
     "output_type": "stream",
     "text": [
      "simulated p-value for `trestbps` two-sample t-test:  0.008\n"
     ]
    }
   ],
   "source": [
    "# calculate p-value\n",
    "observed_mean_diff = np.mean(trestbps_hd) - np.mean(trestbps_no_hd)\n",
    "pval_sim = np.sum(np.array(null_mean_diffs) > observed_mean_diff)/1000 * 2\n",
    "print('simulated p-value for `trestbps` two-sample t-test: ', pval_sim)"
   ]
  },
  {
   "cell_type": "code",
   "execution_count": 22,
   "metadata": {},
   "outputs": [
    {
     "data": {
      "image/png": "[encoded data removed]",
      "text/plain": [
       "<Figure size 640x480 with 1 Axes>"
      ]
     },
     "metadata": {},
     "output_type": "display_data"
    }
   ],
   "source": [
    "plt.hist(null_mean_diffs)\n",
    "plt.axvline(x = observed_mean_diff, color = 'red')\n",
    "plt.show()"
   ]
  },
  {
   "cell_type": "code",
   "execution_count": 23,
   "metadata": {},
   "outputs": [
    {
     "name": "stdout",
     "output_type": "stream",
     "text": [
      "scipy p-value for chi-square test:  1.2517106007837527e-17\n"
     ]
    }
   ],
   "source": [
    "# chi-sq test with scipy\n",
    "Xtab = pd.crosstab(heart.cp, heart.heart_disease)\n",
    "from scipy.stats import chi2_contingency\n",
    "chi2, pval, dof, exp = chi2_contingency(Xtab)\n",
    "print('scipy p-value for chi-square test: ', pval)"
   ]
  },
  {
   "cell_type": "code",
   "execution_count": 24,
   "metadata": {},
   "outputs": [
    {
     "data": {
      "text/plain": [
       "asymptomatic        0.475248\n",
       "atypical angina     0.165017\n",
       "non-anginal pain    0.283828\n",
       "typical angina      0.075908\n",
       "Name: cp, dtype: float64"
      ]
     },
     "execution_count": 24,
     "metadata": {},
     "output_type": "execute_result"
    }
   ],
   "source": [
    "probs_cp = heart.cp.value_counts(normalize=True).sort_index()\n",
    "probs_cp"
   ]
  },
  {
   "cell_type": "code",
   "execution_count": 25,
   "metadata": {},
   "outputs": [
    {
     "data": {
      "text/plain": [
       "absence     0.541254\n",
       "presence    0.458746\n",
       "Name: heart_disease, dtype: float64"
      ]
     },
     "execution_count": 25,
     "metadata": {},
     "output_type": "execute_result"
    }
   ],
   "source": [
    "probs_hd = heart.heart_disease.value_counts(normalize=True)\n",
    "probs_hd"
   ]
  },
  {
   "cell_type": "code",
   "execution_count": 26,
   "metadata": {},
   "outputs": [
    {
     "name": "stdout",
     "output_type": "stream",
     "text": [
      "[[77.94059406 27.06270627 46.54785479 12.44884488]\n",
      " [66.05940594 22.93729373 39.45214521 10.55115512]]\n",
      "81.81577027653815\n"
     ]
    }
   ],
   "source": [
    "Xtab = pd.crosstab(heart.heart_disease,heart.cp)\n",
    "from scipy.stats import chi2_contingency\n",
    "chi2, pval, dof, exp = chi2_contingency(Xtab)\n",
    "print(exp)\n",
    "print(chi2)"
   ]
  },
  {
   "cell_type": "code",
   "execution_count": 27,
   "metadata": {},
   "outputs": [
    {
     "name": "stdout",
     "output_type": "stream",
     "text": [
      "[[77.94059406 27.06270627 46.54785479 12.44884488]\n",
      " [66.05940594 22.93729373 39.45214521 10.55115512]]\n",
      "81.81577027653816\n"
     ]
    }
   ],
   "source": [
    "observed = pd.crosstab(heart.heart_disease,heart.cp)\n",
    "expected = np.array([probs_hd[0] * probs_cp, probs_hd[1] * probs_cp])*len(heart)\n",
    "print(expected)\n",
    "obs_chi2 = ((observed-expected)**2/expected).sum().sum()\n",
    "print(obs_chi2)"
   ]
  },
  {
   "cell_type": "code",
   "execution_count": 28,
   "metadata": {},
   "outputs": [],
   "source": [
    "null_chisqs = []\n",
    "expected = np.array([probs_hd[0] * probs_cp, probs_hd[1] * probs_cp])*len(heart)\n",
    "\n",
    "for i in range(1000):\n",
    "    scrambled_hd = np.random.choice(heart.heart_disease, size = len(heart), replace = False)\n",
    "    scrambled_cp = np.random.choice(heart.cp, size = len(heart), replace = False)\n",
    "    sim_observed = pd.crosstab(scrambled_hd,scrambled_cp)\n",
    "    sim_chisq = ((sim_observed-expected)**2/expected).sum().sum()\n",
    "    null_chisqs.append(sim_chisq)"
   ]
  },
  {
   "cell_type": "code",
   "execution_count": 29,
   "metadata": {},
   "outputs": [
    {
     "data": {
      "image/png": "[encoded data removed]",
      "text/plain": [
       "<Figure size 640x480 with 1 Axes>"
      ]
     },
     "metadata": {},
     "output_type": "display_data"
    }
   ],
   "source": [
    "plt.hist(null_chisqs)\n",
    "plt.axvline(x = obs_chi2, color = 'red')\n",
    "plt.show()"
   ]
  },
  {
   "cell_type": "code",
   "execution_count": null,
   "metadata": {},
   "outputs": [],
   "source": []
  }
 ],
 "metadata": {
  "kernelspec": {
   "display_name": "Python 3",
   "language": "python",
   "name": "python3"
  },
  "language_info": {
   "codemirror_mode": {
    "name": "ipython",
    "version": 3
   },
   "file_extension": ".py",
   "mimetype": "text/x-python",
   "name": "python",
   "nbconvert_exporter": "python",
   "pygments_lexer": "ipython3",
   "version": "3.11.4"
  }
 },
 "nbformat": 4,
 "nbformat_minor": 4
}
