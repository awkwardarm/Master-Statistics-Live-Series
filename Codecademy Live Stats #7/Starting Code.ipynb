{
 "cells": [
  {
   "cell_type": "code",
   "execution_count": 157,
   "metadata": {},
   "outputs": [],
   "source": [
    "import pandas as pd\n",
    "import numpy as np\n",
    "import matplotlib.pyplot as plt \n",
    "import seaborn as sns\n",
    "from scipy.stats import ttest_ind"
   ]
  },
  {
   "cell_type": "markdown",
   "metadata": {},
   "source": [
    "The data was downloaded from the [UCI Machine Learning Repository](https://archive.ics.uci.edu/ml/datasets/Heart+Disease) and then cleaned for analysis. The principal investigators responsible for data collection were:\n",
    "\n",
    "1. Hungarian Institute of Cardiology. Budapest: Andras Janosi, M.D.\n",
    "2. University Hospital, Zurich, Switzerland: William Steinbrunn, M.D.\n",
    "3. University Hospital, Basel, Switzerland: Matthias Pfisterer, M.D.\n",
    "4. V.A. Medical Center, Long Beach and Cleveland Clinic Foundation: Robert Detrano, M.D., Ph.D."
   ]
  },
  {
   "cell_type": "code",
   "execution_count": 158,
   "metadata": {},
   "outputs": [
    {
     "data": {
      "text/html": [
       "<div>\n",
       "<style scoped>\n",
       "    .dataframe tbody tr th:only-of-type {\n",
       "        vertical-align: middle;\n",
       "    }\n",
       "\n",
       "    .dataframe tbody tr th {\n",
       "        vertical-align: top;\n",
       "    }\n",
       "\n",
       "    .dataframe thead th {\n",
       "        text-align: right;\n",
       "    }\n",
       "</style>\n",
       "<table border=\"1\" class=\"dataframe\">\n",
       "  <thead>\n",
       "    <tr style=\"text-align: right;\">\n",
       "      <th></th>\n",
       "      <th>age</th>\n",
       "      <th>sex</th>\n",
       "      <th>trestbps</th>\n",
       "      <th>chol</th>\n",
       "      <th>cp</th>\n",
       "      <th>exang</th>\n",
       "      <th>fbs</th>\n",
       "      <th>thalach</th>\n",
       "      <th>heart_disease</th>\n",
       "    </tr>\n",
       "  </thead>\n",
       "  <tbody>\n",
       "    <tr>\n",
       "      <th>0</th>\n",
       "      <td>63.0</td>\n",
       "      <td>male</td>\n",
       "      <td>145.0</td>\n",
       "      <td>233.0</td>\n",
       "      <td>typical angina</td>\n",
       "      <td>0.0</td>\n",
       "      <td>1.0</td>\n",
       "      <td>150.0</td>\n",
       "      <td>absence</td>\n",
       "    </tr>\n",
       "    <tr>\n",
       "      <th>1</th>\n",
       "      <td>67.0</td>\n",
       "      <td>male</td>\n",
       "      <td>160.0</td>\n",
       "      <td>286.0</td>\n",
       "      <td>asymptomatic</td>\n",
       "      <td>1.0</td>\n",
       "      <td>0.0</td>\n",
       "      <td>108.0</td>\n",
       "      <td>presence</td>\n",
       "    </tr>\n",
       "    <tr>\n",
       "      <th>2</th>\n",
       "      <td>67.0</td>\n",
       "      <td>male</td>\n",
       "      <td>120.0</td>\n",
       "      <td>229.0</td>\n",
       "      <td>asymptomatic</td>\n",
       "      <td>1.0</td>\n",
       "      <td>0.0</td>\n",
       "      <td>129.0</td>\n",
       "      <td>presence</td>\n",
       "    </tr>\n",
       "    <tr>\n",
       "      <th>3</th>\n",
       "      <td>37.0</td>\n",
       "      <td>male</td>\n",
       "      <td>130.0</td>\n",
       "      <td>250.0</td>\n",
       "      <td>non-anginal pain</td>\n",
       "      <td>0.0</td>\n",
       "      <td>0.0</td>\n",
       "      <td>187.0</td>\n",
       "      <td>absence</td>\n",
       "    </tr>\n",
       "    <tr>\n",
       "      <th>4</th>\n",
       "      <td>41.0</td>\n",
       "      <td>female</td>\n",
       "      <td>130.0</td>\n",
       "      <td>204.0</td>\n",
       "      <td>atypical angina</td>\n",
       "      <td>0.0</td>\n",
       "      <td>0.0</td>\n",
       "      <td>172.0</td>\n",
       "      <td>absence</td>\n",
       "    </tr>\n",
       "  </tbody>\n",
       "</table>\n",
       "</div>"
      ],
      "text/plain": [
       "    age     sex  trestbps   chol                cp  exang  fbs  thalach  \\\n",
       "0  63.0    male     145.0  233.0    typical angina    0.0  1.0    150.0   \n",
       "1  67.0    male     160.0  286.0      asymptomatic    1.0  0.0    108.0   \n",
       "2  67.0    male     120.0  229.0      asymptomatic    1.0  0.0    129.0   \n",
       "3  37.0    male     130.0  250.0  non-anginal pain    0.0  0.0    187.0   \n",
       "4  41.0  female     130.0  204.0   atypical angina    0.0  0.0    172.0   \n",
       "\n",
       "  heart_disease  \n",
       "0       absence  \n",
       "1      presence  \n",
       "2      presence  \n",
       "3       absence  \n",
       "4       absence  "
      ]
     },
     "execution_count": 158,
     "metadata": {},
     "output_type": "execute_result"
    }
   ],
   "source": [
    "heart = pd.read_csv('heart_disease.csv')\n",
    "heart.head()"
   ]
  },
  {
   "cell_type": "code",
   "execution_count": 159,
   "metadata": {},
   "outputs": [
    {
     "name": "stderr",
     "output_type": "stream",
     "text": [
      "/var/folders/_4/0sx4lk8s4193s8wnbm_p10gw0000gn/T/ipykernel_7803/3337008886.py:1: FutureWarning: The default value of numeric_only in DataFrameGroupBy.mean is deprecated. In a future version, numeric_only will default to False. Either specify numeric_only or select only columns which should be valid for the function.\n",
      "  heart.groupby('heart_disease').mean()\n"
     ]
    },
    {
     "data": {
      "text/html": [
       "<div>\n",
       "<style scoped>\n",
       "    .dataframe tbody tr th:only-of-type {\n",
       "        vertical-align: middle;\n",
       "    }\n",
       "\n",
       "    .dataframe tbody tr th {\n",
       "        vertical-align: top;\n",
       "    }\n",
       "\n",
       "    .dataframe thead th {\n",
       "        text-align: right;\n",
       "    }\n",
       "</style>\n",
       "<table border=\"1\" class=\"dataframe\">\n",
       "  <thead>\n",
       "    <tr style=\"text-align: right;\">\n",
       "      <th></th>\n",
       "      <th>age</th>\n",
       "      <th>trestbps</th>\n",
       "      <th>chol</th>\n",
       "      <th>exang</th>\n",
       "      <th>fbs</th>\n",
       "      <th>thalach</th>\n",
       "    </tr>\n",
       "    <tr>\n",
       "      <th>heart_disease</th>\n",
       "      <th></th>\n",
       "      <th></th>\n",
       "      <th></th>\n",
       "      <th></th>\n",
       "      <th></th>\n",
       "      <th></th>\n",
       "    </tr>\n",
       "  </thead>\n",
       "  <tbody>\n",
       "    <tr>\n",
       "      <th>absence</th>\n",
       "      <td>52.585366</td>\n",
       "      <td>129.250000</td>\n",
       "      <td>242.640244</td>\n",
       "      <td>0.140244</td>\n",
       "      <td>0.140244</td>\n",
       "      <td>158.378049</td>\n",
       "    </tr>\n",
       "    <tr>\n",
       "      <th>presence</th>\n",
       "      <td>56.625899</td>\n",
       "      <td>134.568345</td>\n",
       "      <td>251.474820</td>\n",
       "      <td>0.546763</td>\n",
       "      <td>0.158273</td>\n",
       "      <td>139.258993</td>\n",
       "    </tr>\n",
       "  </tbody>\n",
       "</table>\n",
       "</div>"
      ],
      "text/plain": [
       "                     age    trestbps        chol     exang       fbs  \\\n",
       "heart_disease                                                          \n",
       "absence        52.585366  129.250000  242.640244  0.140244  0.140244   \n",
       "presence       56.625899  134.568345  251.474820  0.546763  0.158273   \n",
       "\n",
       "                  thalach  \n",
       "heart_disease              \n",
       "absence        158.378049  \n",
       "presence       139.258993  "
      ]
     },
     "execution_count": 159,
     "metadata": {},
     "output_type": "execute_result"
    }
   ],
   "source": [
    "heart.groupby('heart_disease').mean()"
   ]
  },
  {
   "cell_type": "code",
   "execution_count": 160,
   "metadata": {},
   "outputs": [
    {
     "name": "stderr",
     "output_type": "stream",
     "text": [
      "/var/folders/_4/0sx4lk8s4193s8wnbm_p10gw0000gn/T/ipykernel_7803/2272015993.py:1: FutureWarning: The default value of numeric_only in DataFrameGroupBy.median is deprecated. In a future version, numeric_only will default to False. Either specify numeric_only or select only columns which should be valid for the function.\n",
      "  heart.groupby('heart_disease').median()\n"
     ]
    },
    {
     "data": {
      "text/html": [
       "<div>\n",
       "<style scoped>\n",
       "    .dataframe tbody tr th:only-of-type {\n",
       "        vertical-align: middle;\n",
       "    }\n",
       "\n",
       "    .dataframe tbody tr th {\n",
       "        vertical-align: top;\n",
       "    }\n",
       "\n",
       "    .dataframe thead th {\n",
       "        text-align: right;\n",
       "    }\n",
       "</style>\n",
       "<table border=\"1\" class=\"dataframe\">\n",
       "  <thead>\n",
       "    <tr style=\"text-align: right;\">\n",
       "      <th></th>\n",
       "      <th>age</th>\n",
       "      <th>trestbps</th>\n",
       "      <th>chol</th>\n",
       "      <th>exang</th>\n",
       "      <th>fbs</th>\n",
       "      <th>thalach</th>\n",
       "    </tr>\n",
       "    <tr>\n",
       "      <th>heart_disease</th>\n",
       "      <th></th>\n",
       "      <th></th>\n",
       "      <th></th>\n",
       "      <th></th>\n",
       "      <th></th>\n",
       "      <th></th>\n",
       "    </tr>\n",
       "  </thead>\n",
       "  <tbody>\n",
       "    <tr>\n",
       "      <th>absence</th>\n",
       "      <td>52.0</td>\n",
       "      <td>130.0</td>\n",
       "      <td>234.5</td>\n",
       "      <td>0.0</td>\n",
       "      <td>0.0</td>\n",
       "      <td>161.0</td>\n",
       "    </tr>\n",
       "    <tr>\n",
       "      <th>presence</th>\n",
       "      <td>58.0</td>\n",
       "      <td>130.0</td>\n",
       "      <td>249.0</td>\n",
       "      <td>1.0</td>\n",
       "      <td>0.0</td>\n",
       "      <td>142.0</td>\n",
       "    </tr>\n",
       "  </tbody>\n",
       "</table>\n",
       "</div>"
      ],
      "text/plain": [
       "                age  trestbps   chol  exang  fbs  thalach\n",
       "heart_disease                                            \n",
       "absence        52.0     130.0  234.5    0.0  0.0    161.0\n",
       "presence       58.0     130.0  249.0    1.0  0.0    142.0"
      ]
     },
     "execution_count": 160,
     "metadata": {},
     "output_type": "execute_result"
    }
   ],
   "source": [
    "heart.groupby('heart_disease').median()"
   ]
  },
  {
   "cell_type": "code",
   "execution_count": 161,
   "metadata": {},
   "outputs": [
    {
     "data": {
      "text/plain": [
       "<Axes: xlabel='heart_disease', ylabel='thalach'>"
      ]
     },
     "execution_count": 161,
     "metadata": {},
     "output_type": "execute_result"
    },
    {
     "data": {
      "image/png": "[encoded data removed]",
      "text/plain": [
       "<Figure size 640x480 with 1 Axes>"
      ]
     },
     "metadata": {},
     "output_type": "display_data"
    }
   ],
   "source": [
    "sns.boxplot(data=heart, x = 'heart_disease', y = 'thalach')"
   ]
  },
  {
   "cell_type": "code",
   "execution_count": 162,
   "metadata": {},
   "outputs": [
    {
     "data": {
      "text/plain": [
       "<Axes: xlabel='heart_disease', ylabel='trestbps'>"
      ]
     },
     "execution_count": 162,
     "metadata": {},
     "output_type": "execute_result"
    },
    {
     "data": {
      "image/png": "[encoded data removed]",
      "text/plain": [
       "<Figure size 640x480 with 1 Axes>"
      ]
     },
     "metadata": {},
     "output_type": "display_data"
    }
   ],
   "source": [
    "sns.boxplot(data=heart, x = 'heart_disease', y = 'trestbps')"
   ]
  },
  {
   "cell_type": "markdown",
   "metadata": {},
   "source": [
    "## Simulated Test of Means\n",
    "\n",
    "Scrambling the heart_disease column to see if we can make the mean difference between patients with heart disease and without heart disease = 0\n",
    "\n",
    "**We are basically walking through a manual 2 sided T test**"
   ]
  },
  {
   "cell_type": "code",
   "execution_count": 163,
   "metadata": {},
   "outputs": [
    {
     "data": {
      "text/html": [
       "<div>\n",
       "<style scoped>\n",
       "    .dataframe tbody tr th:only-of-type {\n",
       "        vertical-align: middle;\n",
       "    }\n",
       "\n",
       "    .dataframe tbody tr th {\n",
       "        vertical-align: top;\n",
       "    }\n",
       "\n",
       "    .dataframe thead th {\n",
       "        text-align: right;\n",
       "    }\n",
       "</style>\n",
       "<table border=\"1\" class=\"dataframe\">\n",
       "  <thead>\n",
       "    <tr style=\"text-align: right;\">\n",
       "      <th></th>\n",
       "      <th>trestbps</th>\n",
       "      <th>heart_disease</th>\n",
       "    </tr>\n",
       "  </thead>\n",
       "  <tbody>\n",
       "    <tr>\n",
       "      <th>0</th>\n",
       "      <td>145.0</td>\n",
       "      <td>absence</td>\n",
       "    </tr>\n",
       "    <tr>\n",
       "      <th>1</th>\n",
       "      <td>160.0</td>\n",
       "      <td>presence</td>\n",
       "    </tr>\n",
       "    <tr>\n",
       "      <th>2</th>\n",
       "      <td>120.0</td>\n",
       "      <td>presence</td>\n",
       "    </tr>\n",
       "    <tr>\n",
       "      <th>3</th>\n",
       "      <td>130.0</td>\n",
       "      <td>absence</td>\n",
       "    </tr>\n",
       "    <tr>\n",
       "      <th>4</th>\n",
       "      <td>130.0</td>\n",
       "      <td>absence</td>\n",
       "    </tr>\n",
       "  </tbody>\n",
       "</table>\n",
       "</div>"
      ],
      "text/plain": [
       "   trestbps heart_disease\n",
       "0     145.0       absence\n",
       "1     160.0      presence\n",
       "2     120.0      presence\n",
       "3     130.0       absence\n",
       "4     130.0       absence"
      ]
     },
     "execution_count": 163,
     "metadata": {},
     "output_type": "execute_result"
    }
   ],
   "source": [
    "heart[['trestbps', 'heart_disease']].head()"
   ]
  },
  {
   "cell_type": "code",
   "execution_count": 164,
   "metadata": {},
   "outputs": [
    {
     "name": "stdout",
     "output_type": "stream",
     "text": [
      "['presence' 'presence' 'presence' 'presence' 'presence' 'absence'\n",
      " 'presence' 'presence' 'absence' 'presence' 'presence' 'presence'\n",
      " 'presence' 'presence' 'absence' 'absence' 'presence' 'absence' 'absence'\n",
      " 'presence' 'absence' 'presence' 'absence' 'absence' 'absence' 'absence'\n",
      " 'absence' 'presence' 'presence' 'absence' 'absence' 'absence' 'presence'\n",
      " 'presence' 'absence' 'absence' 'absence' 'absence' 'absence' 'presence'\n",
      " 'presence' 'absence' 'presence' 'absence' 'absence' 'presence' 'absence'\n",
      " 'presence' 'presence' 'absence' 'presence' 'absence' 'absence' 'absence'\n",
      " 'absence' 'absence' 'absence' 'presence' 'absence' 'absence' 'presence'\n",
      " 'presence' 'absence' 'absence' 'absence' 'presence' 'presence' 'absence'\n",
      " 'presence' 'absence' 'absence' 'absence' 'presence' 'absence' 'presence'\n",
      " 'absence' 'presence' 'absence' 'absence' 'presence' 'presence' 'absence'\n",
      " 'absence' 'absence' 'absence' 'absence' 'presence' 'absence' 'presence'\n",
      " 'presence' 'presence' 'presence' 'absence' 'absence' 'presence' 'absence'\n",
      " 'presence' 'presence' 'presence' 'absence' 'absence' 'absence' 'absence'\n",
      " 'absence' 'presence' 'presence' 'absence' 'absence' 'absence' 'presence'\n",
      " 'absence' 'presence' 'absence' 'absence' 'absence' 'presence' 'absence'\n",
      " 'presence' 'presence' 'presence' 'presence' 'absence' 'presence'\n",
      " 'presence' 'absence' 'presence' 'presence' 'absence' 'presence'\n",
      " 'presence' 'absence' 'absence' 'absence' 'absence' 'absence' 'presence'\n",
      " 'absence' 'absence' 'absence' 'presence' 'absence' 'absence' 'presence'\n",
      " 'presence' 'presence' 'presence' 'presence' 'presence' 'absence'\n",
      " 'presence' 'absence' 'absence' 'absence' 'presence' 'absence' 'presence'\n",
      " 'absence' 'absence' 'presence' 'presence' 'presence' 'absence' 'absence'\n",
      " 'presence' 'absence' 'absence' 'absence' 'absence' 'absence' 'presence'\n",
      " 'absence' 'absence' 'presence' 'presence' 'presence' 'absence' 'absence'\n",
      " 'absence' 'presence' 'absence' 'presence' 'presence' 'absence' 'absence'\n",
      " 'absence' 'absence' 'presence' 'absence' 'absence' 'absence' 'absence'\n",
      " 'presence' 'presence' 'absence' 'presence' 'absence' 'presence' 'absence'\n",
      " 'absence' 'absence' 'absence' 'absence' 'presence' 'absence' 'presence'\n",
      " 'presence' 'absence' 'presence' 'absence' 'absence' 'presence' 'absence'\n",
      " 'absence' 'absence' 'absence' 'presence' 'presence' 'absence' 'absence'\n",
      " 'presence' 'absence' 'presence' 'absence' 'absence' 'presence' 'presence'\n",
      " 'absence' 'presence' 'presence' 'absence' 'presence' 'presence' 'absence'\n",
      " 'presence' 'presence' 'absence' 'absence' 'absence' 'absence' 'presence'\n",
      " 'absence' 'presence' 'presence' 'absence' 'presence' 'presence'\n",
      " 'presence' 'absence' 'presence' 'presence' 'absence' 'absence' 'absence'\n",
      " 'absence' 'presence' 'absence' 'presence' 'absence' 'absence' 'presence'\n",
      " 'presence' 'absence' 'absence' 'presence' 'absence' 'absence' 'absence'\n",
      " 'presence' 'absence' 'presence' 'absence' 'absence' 'presence' 'presence'\n",
      " 'absence' 'absence' 'presence' 'absence' 'absence' 'presence' 'absence'\n",
      " 'absence' 'absence' 'absence' 'presence' 'presence' 'absence' 'presence'\n",
      " 'presence' 'presence' 'presence' 'absence' 'absence' 'presence'\n",
      " 'presence' 'presence' 'presence' 'presence' 'presence' 'presence'\n",
      " 'absence' 'presence' 'presence']\n"
     ]
    }
   ],
   "source": [
    "scramble = np.random.choice(heart.heart_disease, len(heart), replace = False)\n",
    "print(scramble)"
   ]
  },
  {
   "cell_type": "code",
   "execution_count": 165,
   "metadata": {},
   "outputs": [
    {
     "name": "stdout",
     "output_type": "stream",
     "text": [
      "-1.3674328829619071\n"
     ]
    }
   ],
   "source": [
    "sim_trestbpm_hd = heart.trestbps[scramble == 'presence']\n",
    "sim_trestbpm_no_hd = heart.trestbps[scramble == 'absence']\n",
    "\n",
    "sim_mean_diff = np.mean(sim_trestbpm_hd) - np.mean(sim_trestbpm_no_hd)\n",
    "print(sim_mean_diff)\n"
   ]
  },
  {
   "cell_type": "code",
   "execution_count": 166,
   "metadata": {},
   "outputs": [],
   "source": [
    "null_mean_diff = []\n",
    "\n",
    "for i in range(1000):\n",
    "    scramble = np.random.choice(heart.heart_disease, len(heart), replace = False)\n",
    "    sim_trestbpm_hd = heart.trestbps[scramble == 'presence']\n",
    "    sim_trestbpm_no_hd = heart.trestbps[scramble == 'absence']\n",
    "    sim_mean_diff = np.mean(sim_trestbpm_hd) - np.mean(sim_trestbpm_no_hd)\n",
    "    null_mean_diff.append(sim_mean_diff)"
   ]
  },
  {
   "cell_type": "code",
   "execution_count": 167,
   "metadata": {},
   "outputs": [
    {
     "data": {
      "text/plain": [
       "<matplotlib.lines.Line2D at 0x12c34a410>"
      ]
     },
     "execution_count": 167,
     "metadata": {},
     "output_type": "execute_result"
    },
    {
     "data": {
      "image/png": "[encoded data removed]",
      "text/plain": [
       "<Figure size 640x480 with 1 Axes>"
      ]
     },
     "metadata": {},
     "output_type": "display_data"
    }
   ],
   "source": [
    "# plot the true observed_mean_diff over the below plot\n",
    "\n",
    "observed_mean_diff = np.mean(heart.trestbps[heart.heart_disease == 'presence']) - np.mean(heart.trestbps[heart.heart_disease == 'absence'])\n",
    "\n",
    "plt.hist(null_mean_diff)\n",
    "plt.axvline(x = observed_mean_diff, color = 'red')"
   ]
  },
  {
   "cell_type": "code",
   "execution_count": 168,
   "metadata": {},
   "outputs": [
    {
     "data": {
      "text/plain": [
       "0.008"
      ]
     },
     "execution_count": 168,
     "metadata": {},
     "output_type": "execute_result"
    }
   ],
   "source": [
    "np.sum(np.array(null_mean_diff)>observed_mean_diff)/len(null_mean_diff) * 2\n",
    "\n",
    "# * 2 because we are need to look at both sides of the distribution to get a two sided test. \n",
    "# The * 2 is an approximation\n",
    "\n",
    "# The output is essentially our p-value in a two sample t test"
   ]
  },
  {
   "cell_type": "markdown",
   "metadata": {},
   "source": [
    "# Two Sample T Test\n",
    "Null: There is no difference in mean resting blood pressure among patients who do and do not have heart disease.  \n",
    "Alternative: There is a difference in mean resting blood pressure among patients who do and do not have heart disease."
   ]
  },
  {
   "cell_type": "code",
   "execution_count": 169,
   "metadata": {},
   "outputs": [
    {
     "name": "stdout",
     "output_type": "stream",
     "text": [
      "0.008548268928594928\n"
     ]
    }
   ],
   "source": [
    "trestbps_hd = heart.trestbps[heart['heart_disease'] == 'presence']\n",
    "trestbps_no_hd = heart.trestbps[heart['heart_disease'] == 'absence']\n",
    "tstat, pval = ttest_ind(trestbps_hd, trestbps_no_hd)\n",
    "\n",
    "print(pval)"
   ]
  },
  {
   "cell_type": "code",
   "execution_count": null,
   "metadata": {},
   "outputs": [],
   "source": []
  }
 ],
 "metadata": {
  "kernelspec": {
   "display_name": "Python 3",
   "language": "python",
   "name": "python3"
  },
  "language_info": {
   "codemirror_mode": {
    "name": "ipython",
    "version": 3
   },
   "file_extension": ".py",
   "mimetype": "text/x-python",
   "name": "python",
   "nbconvert_exporter": "python",
   "pygments_lexer": "ipython3",
   "version": "3.11.4"
  }
 },
 "nbformat": 4,
 "nbformat_minor": 4
}
